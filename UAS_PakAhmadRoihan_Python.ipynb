{
  "nbformat": 4,
  "nbformat_minor": 0,
  "metadata": {
    "colab": {
      "provenance": [],
      "authorship_tag": "ABX9TyOQoCnKFLgRUKYdAn6+Xpnz",
      "include_colab_link": true
    },
    "kernelspec": {
      "name": "python3",
      "display_name": "Python 3"
    },
    "language_info": {
      "name": "python"
    }
  },
  "cells": [
    {
      "cell_type": "markdown",
      "metadata": {
        "id": "view-in-github",
        "colab_type": "text"
      },
      "source": [
        "<a href=\"https://colab.research.google.com/github/Dafamafdafiki19/UAS-PakAhmadRoihan-Python-/blob/main/UAS_PakAhmadRoihan_Python.ipynb\" target=\"_parent\"><img src=\"https://colab.research.google.com/assets/colab-badge.svg\" alt=\"Open In Colab\"/></a>"
      ]
    },
    {
      "source": [
        "def binary_search(arr, x, low, high):\n",
        "    if high >= low:\n",
        "        mid = (high + low) // 2\n",
        "        if arr[mid] == x:\n",
        "            return True\n",
        "        elif arr[mid] > x:\n",
        "            return binary_search(arr, x, low, mid - 1)\n",
        "        else:\n",
        "            return binary_search(arr, x, mid + 1, high)\n",
        "    else:\n",
        "        return False\n",
        "\n",
        "with open(\"data/kamus.txt\", \"r\") as f:\n",
        "\n",
        "    kamus = [kata.strip().lower() for kata in f.readlines()]\n",
        "\n",
        "kata_cari = input(\"Masukkan kata yang ingin dicari: \").lower()\n",
        "\n",
        "if binary_search(kamus, kata_cari, 0, len(kamus) - 1):\n",
        "    print(\"Kata ditemukan!\")\n",
        "else:\n",
        "    print(\"Kata tidak ditemukan.\")"
      ],
      "cell_type": "code",
      "metadata": {
        "id": "qchrOKWiyMhJ"
      },
      "execution_count": null,
      "outputs": []
    },
    {
      "cell_type": "markdown",
      "source": [],
      "metadata": {
        "id": "JyeFG6QCyjUB"
      }
    }
  ]
}